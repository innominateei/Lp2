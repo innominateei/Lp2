{
 "cells": [
  {
   "cell_type": "code",
   "execution_count": 9,
   "id": "a0fd4a64-5bbd-4dfc-9563-9375f07adc39",
   "metadata": {},
   "outputs": [
    {
     "ename": "SyntaxError",
     "evalue": "invalid syntax (2622531052.py, line 11)",
     "output_type": "error",
     "traceback": [
      "\u001b[1;36m  Cell \u001b[1;32mIn[9], line 11\u001b[1;36m\u001b[0m\n\u001b[1;33m    if current_distance >\u001b[0m\n\u001b[1;37m                          ^\u001b[0m\n\u001b[1;31mSyntaxError\u001b[0m\u001b[1;31m:\u001b[0m invalid syntax\n"
     ]
    }
   ],
   "source": [
    "import heapq\n",
    "\n",
    "def djikstra(graph,start):\n",
    "    distances = { node: float('infinity') for node in graph}\n",
    "    distances[start] = 0\n",
    "    priority_queue = [(0, start)]\n",
    "\n",
    "    while priority_queue:\n",
    "        current_distance, current_node = heapq.heappop(priority_queue)\n",
    "\n",
    "        if current_distance > \n"
   ]
  },
  {
   "cell_type": "code",
   "execution_count": 13,
   "id": "2d43b207-7d67-4f8a-940c-2438a107415f",
   "metadata": {},
   "outputs": [
    {
     "name": "stdout",
     "output_type": "stream",
     "text": [
      "Shortest paths from node A\n",
      "To node A: 0\n",
      "To node B: 10\n",
      "To node C: 3\n",
      "To node D: 5\n",
      "To node E: 5\n"
     ]
    }
   ],
   "source": [
    "import heapq\n",
    "\n",
    "def djikstra(graph,start):\n",
    "    distances = { node: float('infinity') for node in graph}\n",
    "    distances[start] = 0\n",
    "    priority_queue = [(0,start)]\n",
    "\n",
    "    while priority_queue:\n",
    "        current_distance, current_node = heapq.heappop(priority_queue)\n",
    "\n",
    "        if current_distance > distances[current_node]:\n",
    "            continue\n",
    "        for neighbour, weight in graph[current_node]:\n",
    "            distance = current_distance + weight\n",
    "            if distance < distances[neighbour]:\n",
    "                distances[neighbour] = distance\n",
    "                heapq.heappush(priority_queue, (distance,neighbour))\n",
    "    return distances\n",
    "\n",
    "graph = {\n",
    "    'A': [('B', 10), ('C', 3), ('D', 8), ('E', 5)],\n",
    "    'B': [('A', 10), ('C', 7), ('D', 6), ('E', 12)],\n",
    "    'C': [('A', 3), ('B', 7), ('D', 2), ('E', 9)],\n",
    "    'D': [('A', 8), ('B', 6), ('C', 2), ('E', 11)],\n",
    "    'E': [('A', 5), ('B', 12), ('C', 9), ('D', 11)]\n",
    "}\n",
    "start_node = 'A'\n",
    "shortest_path = djikstra(graph,start_node)\n",
    "print(\"Shortest paths from node\",start_node)\n",
    "for node, distance in shortest_path.items():\n",
    "    print(\"To node\", node + \":\",distance)"
   ]
  },
  {
   "cell_type": "code",
   "execution_count": 14,
   "id": "02aae4b2-19bf-4007-9c15-dc4612c2ebbc",
   "metadata": {},
   "outputs": [
    {
     "name": "stdout",
     "output_type": "stream",
     "text": [
      "Shortest path from node A\n",
      "To node A: 0\n",
      "To node B: 10\n",
      "To node C: 3\n",
      "To node D: 5\n",
      "To node E: 5\n"
     ]
    }
   ],
   "source": [
    "import heapq\n",
    "\n",
    "def djikstra(graph, start):\n",
    "    distances = {node : float('infinity') for node in graph}\n",
    "    distances[start] = 0\n",
    "    priority_queue = [(0,start)]\n",
    "\n",
    "    while priority_queue:\n",
    "        current_distance, current_node = heapq.heappop(priority_queue)\n",
    "\n",
    "        if current_distance > distances[current_node]:\n",
    "            continue\n",
    "        for neighbour, weight in graph[current_node]:\n",
    "            distance = current_distance + weight\n",
    "            if distance < distances[neighbour]:\n",
    "                distances[neighbour] = distance\n",
    "                heapq.heappush(priority_queue, (distance, neighbour))\n",
    "    return distances\n",
    "\n",
    "start_node = 'A'\n",
    "shortest_path = djikstra(graph,start_node)\n",
    "print(\"Shortest path from node\",start_node)\n",
    "for node,distance in shortest_path.items():\n",
    "    print(\"To node\", node + \":\",distance)"
   ]
  },
  {
   "cell_type": "code",
   "execution_count": 30,
   "id": "6905e50c-ce6b-4a14-ba3b-55617b4abca0",
   "metadata": {},
   "outputs": [
    {
     "name": "stdout",
     "output_type": "stream",
     "text": [
      "Short path from node A\n",
      "To node A: 0\n",
      "To node B: 10\n",
      "To node C: 3\n",
      "To node D: 5\n",
      "To node E: 5\n"
     ]
    }
   ],
   "source": [
    "import heapq\n",
    "def djikstra(graph,start):\n",
    "    distances ={node: float('infinity') for node in graph}\n",
    "    distances[start] = 0\n",
    "    priority_queue = [(0,start)]\n",
    "\n",
    "    while priority_queue:\n",
    "       current_distance, current_node = heapq.heappop(priority_queue)\n",
    "\n",
    "       if current_distance > distances[current_node]:\n",
    "             continue\n",
    "       for neighbour, weight in graph[current_node]:\n",
    "           distance = current_distance + weight\n",
    "           if distance < distances[neighbour]:\n",
    "             distances[neighbour] = distance\n",
    "             heapq.heappush(priority_queue, (distance, neighbour))\n",
    "    return distances\n",
    "graph = {\n",
    "    'A': [('B', 10), ('C', 3), ('D', 8), ('E', 5)],\n",
    "    'B': [('A', 10), ('C', 7), ('D', 6), ('E', 12)],\n",
    "    'C': [('A', 3), ('B', 7), ('D', 2), ('E', 9)],\n",
    "    'D': [('A', 8), ('B', 6), ('C', 2), ('E', 11)],\n",
    "    'E': [('A', 5), ('B', 12), ('C', 9), ('D', 11)]\n",
    "}\n",
    "\n",
    "start_node = 'A'\n",
    "shortest_path = djikstra(graph,start_node)\n",
    "print(\"Short path from node\", start_node)\n",
    "for node, distance in shortest_path.items():\n",
    "    print(\"To node\", node + \":\", distance)"
   ]
  },
  {
   "cell_type": "code",
   "execution_count": null,
   "id": "48c0a2f3-844d-4db2-8d83-aa448e673db3",
   "metadata": {},
   "outputs": [],
   "source": []
  }
 ],
 "metadata": {
  "kernelspec": {
   "display_name": "Python 3 (ipykernel)",
   "language": "python",
   "name": "python3"
  },
  "language_info": {
   "codemirror_mode": {
    "name": "ipython",
    "version": 3
   },
   "file_extension": ".py",
   "mimetype": "text/x-python",
   "name": "python",
   "nbconvert_exporter": "python",
   "pygments_lexer": "ipython3",
   "version": "3.10.1"
  }
 },
 "nbformat": 4,
 "nbformat_minor": 5
}
