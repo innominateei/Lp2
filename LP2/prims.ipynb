{
 "cells": [
  {
   "cell_type": "code",
   "execution_count": 1,
   "id": "1d2019aa-e3cb-4b5f-ad03-af7c02d6cc6f",
   "metadata": {},
   "outputs": [
    {
     "name": "stdout",
     "output_type": "stream",
     "text": [
      "0-2:5\n",
      "2-3:1\n",
      "3-4:1\n",
      "4-1:2\n"
     ]
    }
   ],
   "source": [
    "INF = 999999\n",
    "G = [[0,19,5,0,0],\n",
    "     [19,0,5,9,2],\n",
    "     [5,5,0,1,6],\n",
    "     [0,9,1,0,1],\n",
    "     [0,2,6,1,0]]\n",
    "no_edges = 0\n",
    "selected = [0,0,0,0,0]\n",
    "selected[0]=True\n",
    "N = 5 \n",
    "while (no_edges < N-1):\n",
    "    a=0\n",
    "    b=0\n",
    "    minimum = INF\n",
    "    for m in range(N):\n",
    "        if selected[m]:\n",
    "            for n in range(N):\n",
    "                if((not selected[n]) and G[m][n]):\n",
    "                    if minimum>G[m][n]:\n",
    "                        minimum = G[m][n]\n",
    "                        a = m\n",
    "                        b = n\n",
    "    print(str(a)+ \"-\" + str(b) + \":\" + str(G[a][b]))\n",
    "    selected[b] = True\n",
    "    no_edges+=1"
   ]
  },
  {
   "cell_type": "code",
   "execution_count": null,
   "id": "e214e02b-e5a2-4532-9547-6f496b8a8a5c",
   "metadata": {},
   "outputs": [],
   "source": []
  },
  {
   "cell_type": "code",
   "execution_count": null,
   "id": "3fde7b03-cc48-4713-9960-47b7e91f4237",
   "metadata": {},
   "outputs": [],
   "source": []
  },
  {
   "cell_type": "code",
   "execution_count": null,
   "id": "f6af7e15-bb80-4209-98ec-ce6f7219eee3",
   "metadata": {},
   "outputs": [],
   "source": []
  },
  {
   "cell_type": "code",
   "execution_count": null,
   "id": "3effe104-ed4a-4304-9502-90f5a21cac45",
   "metadata": {},
   "outputs": [],
   "source": []
  },
  {
   "cell_type": "code",
   "execution_count": null,
   "id": "c0151f12-9b42-44e8-a46d-e3732596f99b",
   "metadata": {},
   "outputs": [],
   "source": []
  },
  {
   "cell_type": "code",
   "execution_count": null,
   "id": "79027204-c3c2-493c-9d4a-287ee614437a",
   "metadata": {},
   "outputs": [],
   "source": []
  },
  {
   "cell_type": "code",
   "execution_count": null,
   "id": "374996f8-7b97-4861-adfc-6f692cc17e2e",
   "metadata": {},
   "outputs": [],
   "source": []
  },
  {
   "cell_type": "code",
   "execution_count": 9,
   "id": "7a1a3d2b-77da-4802-a3e1-8744a78a64bb",
   "metadata": {},
   "outputs": [
    {
     "name": "stdout",
     "output_type": "stream",
     "text": [
      "0-2:5\n",
      "2-3:1\n",
      "3-4:1\n",
      "4-1:2\n"
     ]
    }
   ],
   "source": [
    "INF = 999999\n",
    "G = [[0,19,5,0,0],\n",
    "     [19,0,5,9,2],\n",
    "     [5,5,0,1,6],\n",
    "     [0,9,1,0,1],\n",
    "     [0,2,6,1,0]]\n",
    "no_edges = 0\n",
    "selected = [0,0,0,0,0]\n",
    "selected[0]=True\n",
    "N = 5\n",
    "while (no_edges < N-1):\n",
    "    a = 0\n",
    "    b = 0 \n",
    "    minimum = INF\n",
    "    for m in range(N):\n",
    "        if selected[m]:\n",
    "            for n in range(N):\n",
    "                if((not selected[n]) and G[m][n]):\n",
    "                    if minimum>G[m][n]:\n",
    "                        minimum = G[m][n]\n",
    "                        a = m\n",
    "                        b = n\n",
    "    print(str(a)+ \"-\" + str(b)+ \":\" + str(G[a][b]))\n",
    "    selected[b] = True\n",
    "    no_edges+=1"
   ]
  },
  {
   "cell_type": "code",
   "execution_count": 12,
   "id": "3007255c-d0c5-4183-91cf-139930e3d271",
   "metadata": {},
   "outputs": [
    {
     "name": "stdout",
     "output_type": "stream",
     "text": [
      "0-2:5\n",
      "2-3:1\n",
      "3-4:1\n",
      "4-1:2\n"
     ]
    }
   ],
   "source": [
    "INF = 999999\n",
    "G = [[0,19,5,0,0],\n",
    "     [19,0,5,9,2],\n",
    "     [5,5,0,1,6],\n",
    "     [0,9,1,0,1],\n",
    "     [0,2,6,1,0]]\n",
    "no_edges = 0\n",
    "selected = [0,0,0,0,0]\n",
    "selected[0] = True\n",
    "N = 5\n",
    "while(no_edges < N-1):\n",
    "    a = 0 \n",
    "    b = 0\n",
    "    minimum = INF\n",
    "    for m in range(N):\n",
    "        if selected[m]:\n",
    "            for n in range(N):\n",
    "                if((not selected[n]) and G[m][n]):\n",
    "                    if minimum>G[m][n]:\n",
    "                        minimum = G[m][n]\n",
    "                        a = m\n",
    "                        b = n\n",
    "    print(str(a)+ \"-\" +str(b)+ \":\" + str(G[a][b]))\n",
    "    selected[b] = True\n",
    "    no_edges+=1"
   ]
  },
  {
   "cell_type": "code",
   "execution_count": 13,
   "id": "2f9c739f-6d5d-4c14-8446-a2cd344ff168",
   "metadata": {},
   "outputs": [
    {
     "name": "stdout",
     "output_type": "stream",
     "text": [
      "0-2:5\n",
      "2-3:1\n",
      "3-4:1\n",
      "4-1:2\n"
     ]
    }
   ],
   "source": [
    "INF = 999999\n",
    "G = [[0, 19, 5, 0, 0],\n",
    "     [19, 0, 5, 9, 2],\n",
    "     [5, 5, 0, 1, 6],\n",
    "     [0, 9, 1, 0, 1],\n",
    "     [0, 2, 6, 1, 0]]\n",
    "no_edges = 0\n",
    "selected = [0,0,0,0,0]\n",
    "selected[0] = True\n",
    "N = 5 \n",
    "while(no_edges < N-1):\n",
    "    a = 0\n",
    "    b = 0\n",
    "    minimum = INF\n",
    "    for m in range(N):\n",
    "        if selected[m]:\n",
    "            for n in range(N):\n",
    "                if((not selected[n]) and G[m][n]):\n",
    "                    if minimum>G[m][n]:\n",
    "                        minimum = G[m][n]\n",
    "                        a = m\n",
    "                        b = n\n",
    "    print(str(a)+ \"-\" +str(b)+ \":\" + str(G[a][b]))\n",
    "    selected[b] = True\n",
    "    no_edges+=1"
   ]
  },
  {
   "cell_type": "code",
   "execution_count": null,
   "id": "62b17e0a-667d-4334-9cd5-16a149b3bcdf",
   "metadata": {},
   "outputs": [],
   "source": []
  }
 ],
 "metadata": {
  "kernelspec": {
   "display_name": "Python 3 (ipykernel)",
   "language": "python",
   "name": "python3"
  },
  "language_info": {
   "codemirror_mode": {
    "name": "ipython",
    "version": 3
   },
   "file_extension": ".py",
   "mimetype": "text/x-python",
   "name": "python",
   "nbconvert_exporter": "python",
   "pygments_lexer": "ipython3",
   "version": "3.10.1"
  }
 },
 "nbformat": 4,
 "nbformat_minor": 5
}
