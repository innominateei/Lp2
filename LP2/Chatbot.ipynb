{
 "cells": [
  {
   "cell_type": "code",
   "execution_count": 6,
   "id": "fa788e27-32c5-4103-9ef0-9e19426e7cad",
   "metadata": {},
   "outputs": [
    {
     "name": "stdin",
     "output_type": "stream",
     "text": [
      "> hello\n"
     ]
    },
    {
     "name": "stdout",
     "output_type": "stream",
     "text": [
      "Hello! How can I assist you with your JioMart shopping today?\n"
     ]
    },
    {
     "name": "stdin",
     "output_type": "stream",
     "text": [
      "> quit\n"
     ]
    },
    {
     "name": "stdout",
     "output_type": "stream",
     "text": [
      "Thank you for chatting with JioMart. Have a great day!\n"
     ]
    }
   ],
   "source": [
    "import nltk\n",
    "from nltk.chat.util import Chat\n",
    "\n",
    "pairs = [\n",
    "    [\n",
    "        r\"hi|hello\",\n",
    "        [\"Hello! How can I assist you with your JioMart shopping today?\"]\n",
    "    ],\n",
    "    [\n",
    "        r\"what can I buy from JioMart?\",\n",
    "        [\"JioMart offers a wide range of products including groceries, household items, personal care products, electronics, and more. What are you looking for?\"]\n",
    "    ],\n",
    "    [\n",
    "        r\"how can I place an order?\",\n",
    "        [\"To place an order on JioMart, you can visit our website or mobile app. You can browse products, add them to your cart, and proceed to checkout. If you need assistance, feel free to ask.\"]\n",
    "    ],\n",
    "    [\n",
    "        r\"do you have any ongoing offers?\",\n",
    "        [\"Yes, we have several ongoing offers and discounts on various products. Please check our website or app to explore the current deals.\"]\n",
    "    ],\n",
    "    [\n",
    "        r\"how can I track my order?\",\n",
    "        [\"Once your order is placed, you will receive a confirmation message with a tracking link. You can click on the link to track the status of your order in real-time.\"]\n",
    "    ],\n",
    "    [\n",
    "        r\"can I return or exchange a product?\",\n",
    "        [\"Yes, you can return or exchange a product within a specified time period. Please check our return policy on the website or contact our customer support for further assistance.\"]\n",
    "    ],\n",
    "    [\n",
    "        r\"what are the payment options available?\",\n",
    "        [\"We accept multiple payment options including credit cards, debit cards, net banking, and mobile wallets. Cash on delivery is also available in select locations.\"]\n",
    "    ],\n",
    "    [\n",
    "        r\"how can I contact customer support?\",\n",
    "        [\"You can reach our customer support team by calling our helpline number or sending an email. Our representatives are available to assist you with any queries or concerns.\"]\n",
    "    ],\n",
    "    [\n",
    "        r\"what are the delivery options?\",\n",
    "        [\"We offer both home delivery and in-store pickup options. During checkout, you can choose the most convenient option for you.\"]\n",
    "    ],\n",
    "    [\n",
    "        r\"can I schedule a delivery?\",\n",
    "        [\"Yes, you can schedule your delivery as per your preferred date and time during the checkout process.\"]\n",
    "    ],\n",
    "    [\n",
    "        r\"are there any membership programs?\",\n",
    "        [\"Yes, we have a membership program called JioMart Plus. It offers various benefits like free delivery, exclusive discounts, and priority access to new launches.\"]\n",
    "    ],\n",
    "    [\n",
    "        r\"how can I sign up for JioMart Plus?\",\n",
    "        [\"To sign up for JioMart Plus, you can visit our website or app and follow the instructions to subscribe. Membership details and benefits will be provided during the signup process.\"]\n",
    "    ],\n",
    "    [\n",
    "        r\"do you have a mobile app?\",\n",
    "        [\"Yes, we have a mobile app available for both Android and iOS devices. You can download it from the respective app stores.\"]\n",
    "    ],\n",
    "    [\n",
    "        r\"can I track my previous orders?\",\n",
    "        [\"Yes, you can view your order history and track previous orders by logging into your JioMart account on our website or app.\"]\n",
    "    ],\n",
    "    [\n",
    "        r\"how can I provide feedback or suggestions?\",\n",
    "        [\"We value your feedback! You can provide feedback or suggestions through our website or app. Alternatively, you can contact our customer support team.\"]\n",
    "    ],\n",
    "    [\n",
    "        r\"are there any bulk purchase discounts?\",\n",
    "        [\"Yes, we offer bulk purchase discounts on select products. Please check the product details or contact our customer support for more information.\"]\n",
    "    ],\n",
    "    [\n",
    "        r\"do you have a loyalty program?\",\n",
    "        [\"Yes, we have a loyalty program that rewards you for your purchases. You can earn points and redeem them for discounts or other benefits.\"]\n",
    "    ],\n",
    "    [\n",
    "        r\"what are the customer support hours?\",\n",
    "        [\"Our customer support is available 24/7 to assist you. You can reach out to us anytime with your queries.\"]\n",
    "    ],\n",
    "    [\n",
    "        r\"how can I unsubscribe from JioMart Plus?\",\n",
    "        [\"To unsubscribe from JioMart Plus, please contact our customer support team. They will assist you with the cancellation process.\"]\n",
    "    ],\n",
    "    [\n",
    "        r\"tell me more about JioMart\",\n",
    "        [\"JioMart is an online grocery and retail platform that offers a wide range of products at competitive prices. It is backed by reliable delivery and convenient payment options.\"]\n",
    "    ],\n",
    "    [\n",
    "        r\"do you have a referral program?\",\n",
    "        [\"Yes, we have a referral program where you can refer your friends and earn rewards. Check our website or app for more details.\"]\n",
    "    ],\n",
    "    [\n",
    "        r\"how can I update my account information?\",\n",
    "        [\"You can update your account information by logging into your JioMart account on our website or app. There, you can edit your profile and manage your details.\"]\n",
    "    ],\n",
    "    [\n",
    "        r\"thank you|thanks\",\n",
    "        [\"You're welcome! If you have any more questions, feel free to ask. Happy shopping with JioMart!\"]\n",
    "    ],\n",
    "    [\n",
    "        r\"quit\",\n",
    "        [\"Thank you for chatting with JioMart. Have a great day!\"]\n",
    "    ]\n",
    "]\n",
    "\n",
    "def func():\n",
    "    ch = Chat(pairs)\n",
    "    ch.converse()\n",
    "\n",
    "if __name__ == \"__main__\":\n",
    "    func()"
   ]
  },
  {
   "cell_type": "code",
   "execution_count": null,
   "id": "2bf680a6-7373-4757-9adc-37b9b63e8e01",
   "metadata": {},
   "outputs": [],
   "source": []
  }
 ],
 "metadata": {
  "kernelspec": {
   "display_name": "Python 3 (ipykernel)",
   "language": "python",
   "name": "python3"
  },
  "language_info": {
   "codemirror_mode": {
    "name": "ipython",
    "version": 3
   },
   "file_extension": ".py",
   "mimetype": "text/x-python",
   "name": "python",
   "nbconvert_exporter": "python",
   "pygments_lexer": "ipython3",
   "version": "3.10.1"
  }
 },
 "nbformat": 4,
 "nbformat_minor": 5
}
