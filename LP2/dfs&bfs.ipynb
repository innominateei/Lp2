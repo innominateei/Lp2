{
 "cells": [
  {
   "cell_type": "code",
   "execution_count": null,
   "id": "db30597c-acc3-4f8d-a5e1-1b0baf184d3f",
   "metadata": {},
   "outputs": [],
   "source": [
    "#DFS code"
   ]
  },
  {
   "cell_type": "code",
   "execution_count": 6,
   "id": "47f38c93-374f-46ed-9f9c-571e73d6b264",
   "metadata": {},
   "outputs": [
    {
     "name": "stdout",
     "output_type": "stream",
     "text": [
      "A B D E F C "
     ]
    }
   ],
   "source": [
    "graph = { \n",
    "    'A' : ['B' , 'C'],\n",
    "    'B' : ['D' , 'E'],\n",
    "    'C' : ['F'],\n",
    "    'D' : [],\n",
    "    'E' : ['F'],\n",
    "    'F' : []\n",
    "}\n",
    "visited = set()\n",
    "def dfs(visited , graph , node):\n",
    "     if node not in visited:\n",
    "         print(node,end = \" \")\n",
    "         visited.add(node)\n",
    "\n",
    "     for neighbour in graph[node]:\n",
    "         dfs(visited,graph,neighbour)\n",
    "\n",
    "dfs(visited,graph, 'A')\n",
    "        \n",
    "    "
   ]
  },
  {
   "cell_type": "code",
   "execution_count": 16,
   "id": "0810d8b0-3c9e-474e-a22c-2d57606c2b1a",
   "metadata": {},
   "outputs": [],
   "source": [
    "#BFS code"
   ]
  },
  {
   "cell_type": "code",
   "execution_count": 19,
   "id": "3bb40cc5-6aeb-4eca-a694-6aaee64adaf2",
   "metadata": {},
   "outputs": [
    {
     "name": "stdout",
     "output_type": "stream",
     "text": [
      "A B C D E F "
     ]
    }
   ],
   "source": [
    "graph={\n",
    "    'A':['B','C'],\n",
    "    'B':['D','E'],\n",
    "    'C':['F'],\n",
    "    'D':[],\n",
    "    'E':['F'],\n",
    "    'F':[]\n",
    "}\n",
    "visited=[]\n",
    "queue=[]\n",
    "\n",
    "def bfs(visited,graph,node):\n",
    "    visited.append(node)\n",
    "    queue.append(node)\n",
    "    \n",
    "    while(queue):\n",
    "        s = queue.pop(0)\n",
    "        print(s, end=\" \")\n",
    "        \n",
    "        for neighbour in graph[s]:\n",
    "            if neighbour not in visited:\n",
    "                visited.append(neighbour)\n",
    "                queue.append(neighbour)\n",
    "\n",
    "bfs(visited,graph,'A')"
   ]
  },
  {
   "cell_type": "code",
   "execution_count": null,
   "id": "2fd24a84-fd09-4ffa-9fbb-989998d603bd",
   "metadata": {},
   "outputs": [],
   "source": []
  }
 ],
 "metadata": {
  "kernelspec": {
   "display_name": "Python 3 (ipykernel)",
   "language": "python",
   "name": "python3"
  },
  "language_info": {
   "codemirror_mode": {
    "name": "ipython",
    "version": 3
   },
   "file_extension": ".py",
   "mimetype": "text/x-python",
   "name": "python",
   "nbconvert_exporter": "python",
   "pygments_lexer": "ipython3",
   "version": "3.10.1"
  }
 },
 "nbformat": 4,
 "nbformat_minor": 5
}
