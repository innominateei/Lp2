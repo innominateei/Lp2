{
 "cells": [
  {
   "cell_type": "code",
   "execution_count": 3,
   "id": "f136b127-5133-4bc6-b2ee-7951a80bc234",
   "metadata": {},
   "outputs": [
    {
     "name": "stdout",
     "output_type": "stream",
     "text": [
      "Solution exist and Following are the assigned colour:\n",
      "1 2 3 2 "
     ]
    },
    {
     "data": {
      "text/plain": [
       "True"
      ]
     },
     "execution_count": 3,
     "metadata": {},
     "output_type": "execute_result"
    }
   ],
   "source": [
    "no_vertices = 4\n",
    "m = 3\n",
    "graph = [[0,1,1,1],\n",
    "         [1,0,1,0],\n",
    "         [1,1,0,1],\n",
    "         [1,0,1,0]]\n",
    "\n",
    "def isSafe(v, colour_list, curr_color):\n",
    "    for i in range(no_vertices):\n",
    "        if graph[v][i] == 1 and colour_list[i] == curr_color:\n",
    "            return False\n",
    "    return True \n",
    "\n",
    "def graphColourUtil(m, colour_list, v):\n",
    "    if v == no_vertices:\n",
    "        return True\n",
    "\n",
    "    for curr_color in range(1, m+1):\n",
    "        if isSafe(v,colour_list, curr_color) == True:\n",
    "            colour_list[v] = curr_color\n",
    "\n",
    "            if graphColourUtil(m, colour_list, v + 1) == True:\n",
    "                return True\n",
    "            colour_list[v] = 0\n",
    "    return False\n",
    "\n",
    "def graphColouring(m):\n",
    "    colour_list = [0] * no_vertices\n",
    "\n",
    "    if graphColourUtil(m, colour_list, 0) == False:\n",
    "        print(\"Solution does not exist\")\n",
    "        return False\n",
    "\n",
    "    print(\"Solution exist and Following are the assigned colour:\")\n",
    "    for curr_color in colour_list:\n",
    "        print(curr_color, end=' ')\n",
    "    return True\n",
    "    \n",
    "graphColouring(m)"
   ]
  },
  {
   "cell_type": "code",
   "execution_count": 4,
   "id": "276f0fe0-0a89-4581-916c-2b2b4b5fe587",
   "metadata": {},
   "outputs": [
    {
     "name": "stdout",
     "output_type": "stream",
     "text": [
      "Solution exist and Following are the assigned colours:\n",
      "1 2 3 2 "
     ]
    },
    {
     "data": {
      "text/plain": [
       "True"
      ]
     },
     "execution_count": 4,
     "metadata": {},
     "output_type": "execute_result"
    }
   ],
   "source": [
    "no_vertices = 4\n",
    "m = 3\n",
    "graph = [[0,1,1,1],\n",
    "         [1,0,1,0],\n",
    "         [1,1,0,1],\n",
    "         [1,0,1,0]]\n",
    "\n",
    "def isSafe(v, colour_list, curr_color):\n",
    "    for i in range(no_vertices):\n",
    "        if graph[v][i] == 1 and colour_list[i] == curr_color:\n",
    "            return False\n",
    "    return True\n",
    "\n",
    "def graphColourUtil(m, colour_list, v):\n",
    "    if v == no_vertices:\n",
    "        return True\n",
    "    for curr_color in range(1, m+1):\n",
    "        if isSafe(v, colour_list, curr_color) == True:\n",
    "            colour_list[v] = curr_color\n",
    "\n",
    "            if graphColourUtil(m, colour_list, v + 1) == True:\n",
    "                return True\n",
    "            colour_list[v] = 0 \n",
    "    return False\n",
    "\n",
    "def graphColouring(m):\n",
    "    colour_list = [0] * no_vertices\n",
    "\n",
    "    if graphColourUtil(m, colour_list, 0) == False:\n",
    "        print(\"Solution does not exist\")\n",
    "        return False\n",
    "    print(\"Solution exist and Following are the assigned colours:\")\n",
    "    for curr_color in colour_list:\n",
    "        print(curr_color, end=' ')\n",
    "    return True\n",
    "\n",
    "graphColouring(m)"
   ]
  },
  {
   "cell_type": "code",
   "execution_count": 10,
   "id": "66701307-2b70-4284-a54f-7c5230997988",
   "metadata": {},
   "outputs": [
    {
     "name": "stdout",
     "output_type": "stream",
     "text": [
      "Solution exist and Following are the assigned colours:\n",
      "1 2 3 2 "
     ]
    },
    {
     "data": {
      "text/plain": [
       "True"
      ]
     },
     "execution_count": 10,
     "metadata": {},
     "output_type": "execute_result"
    }
   ],
   "source": [
    "no_vertices = 4\n",
    "m = 3\n",
    "graph = [[0,1,1,1],\n",
    "         [1,0,1,0],\n",
    "         [1,1,0,1],\n",
    "         [1,0,1,0]]\n",
    "def isSafe(v, colour_list, curr_color):\n",
    "    for i in range(no_vertices):\n",
    "        if graph[v][i] == 1 and colour_list[i] == curr_color:\n",
    "            return False\n",
    "    return True\n",
    "\n",
    "def graphColourUtil(m, colour_list, v):\n",
    "    if v == no_vertices:\n",
    "        return True\n",
    "        \n",
    "    for curr_color in range(1, m+1):\n",
    "        if isSafe(v, colour_list, curr_color) == True:\n",
    "            colour_list [v] = curr_color\n",
    "            if graphColourUtil(m, colour_list, v+1) == True:\n",
    "                return True\n",
    "            colour_list[v] = 0\n",
    "    return False\n",
    "\n",
    "def graphColoring(m):\n",
    "    colour_list = [0] * no_vertices\n",
    "\n",
    "    if graphColourUtil(m, colour_list, 0) == False:\n",
    "       print(\"Solution doesnt exist\")\n",
    "       return False\n",
    "        \n",
    "    print(\"Solution exist and Following are the assigned colours:\")\n",
    "    for curr_color in colour_list:\n",
    "        print(colour_list, end=' ')\n",
    "    return True \n",
    "\n",
    "graphColouring(m)\n",
    "    \n",
    "        "
   ]
  },
  {
   "cell_type": "code",
   "execution_count": null,
   "id": "9a898fa9-64fc-4d5c-a016-1bc53aef8bd6",
   "metadata": {},
   "outputs": [],
   "source": []
  }
 ],
 "metadata": {
  "kernelspec": {
   "display_name": "Python 3 (ipykernel)",
   "language": "python",
   "name": "python3"
  },
  "language_info": {
   "codemirror_mode": {
    "name": "ipython",
    "version": 3
   },
   "file_extension": ".py",
   "mimetype": "text/x-python",
   "name": "python",
   "nbconvert_exporter": "python",
   "pygments_lexer": "ipython3",
   "version": "3.10.1"
  }
 },
 "nbformat": 4,
 "nbformat_minor": 5
}
