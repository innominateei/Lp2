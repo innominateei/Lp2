{
 "cells": [
  {
   "cell_type": "code",
   "execution_count": 2,
   "id": "becde09f-d12c-42ba-aa1d-516a67cbaca9",
   "metadata": {},
   "outputs": [
    {
     "name": "stdout",
     "output_type": "stream",
     "text": [
      "Job Schedule: ['Job_A', 'Job_B', 'Job_C', 'Job_D']\n"
     ]
    }
   ],
   "source": [
    "def schedule_jobs(jobs):\n",
    "    sorted_jobs = sorted(job_var, key= lambda x:x['duration'])\n",
    "\n",
    "    schedule = []\n",
    "    current_time = 0\n",
    "\n",
    "    for job in sorted_jobs:\n",
    "        if current_time + job['duration'] <= job['deadline']:\n",
    "            schedule.append(job['name'])\n",
    "            current_time = current_time + job['duration']\n",
    "            \n",
    "    return schedule\n",
    "\n",
    "job_var = [\n",
    "    {'name':'Job_A', 'duration': 1, 'deadline': 118},\n",
    "    {'name':'Job_B', 'duration': 2, 'deadline': 157},\n",
    "    {'name': 'Job_C', 'duration': 3, 'deadline': 159},\n",
    "    {'name': 'Job_D', 'duration': 4, 'deadline': 180}\n",
    "]\n",
    "\n",
    "ans = schedule_jobs(job_var)\n",
    "print(\"Job Schedule:\", ans)"
   ]
  },
  {
   "cell_type": "code",
   "execution_count": null,
   "id": "f3396f3b-5456-4fbc-9060-6df29688a6ce",
   "metadata": {},
   "outputs": [],
   "source": []
  },
  {
   "cell_type": "code",
   "execution_count": null,
   "id": "107fd874-9f26-4dcf-a877-0b8bfd728d38",
   "metadata": {},
   "outputs": [],
   "source": []
  },
  {
   "cell_type": "code",
   "execution_count": null,
   "id": "e3a66ef5-b482-4313-8b0c-2609d8076541",
   "metadata": {},
   "outputs": [],
   "source": []
  },
  {
   "cell_type": "code",
   "execution_count": null,
   "id": "82b52a43-880c-4a2f-9831-010af35e41bd",
   "metadata": {},
   "outputs": [],
   "source": []
  },
  {
   "cell_type": "code",
   "execution_count": null,
   "id": "4622c2c5-bbeb-405f-ad29-dbba62c9f67e",
   "metadata": {},
   "outputs": [],
   "source": []
  },
  {
   "cell_type": "code",
   "execution_count": null,
   "id": "80739cad-35fa-4772-9ccc-cf8a15111275",
   "metadata": {},
   "outputs": [],
   "source": []
  },
  {
   "cell_type": "code",
   "execution_count": null,
   "id": "59f271c2-3376-4427-a0e7-3d1c73dea479",
   "metadata": {},
   "outputs": [],
   "source": []
  },
  {
   "cell_type": "code",
   "execution_count": null,
   "id": "982a7eff-b25d-405e-b2b8-baa6094fd69f",
   "metadata": {},
   "outputs": [],
   "source": []
  },
  {
   "cell_type": "code",
   "execution_count": 3,
   "id": "d10708cf-6ad0-4577-a732-28f9e8f3dbd0",
   "metadata": {},
   "outputs": [
    {
     "name": "stdout",
     "output_type": "stream",
     "text": [
      "job_schedule: ['Job_A', 'Job_B', 'Job_C', 'Job_E', 'Job_D']\n"
     ]
    }
   ],
   "source": [
    "def schedule_jobs(jobs):\n",
    "    sorted_jobs = sorted(job_var, key= lambda x:x['duration'])\n",
    "\n",
    "    schedule = []\n",
    "    current_time = 0 \n",
    "\n",
    "    for job in sorted_jobs:\n",
    "        if current_time + job['duration'] <= job['deadline']:\n",
    "            schedule.append(job['name'])\n",
    "            current_time = current_time + job['duration']\n",
    "    return schedule\n",
    "\n",
    "job_var = [\n",
    "    {'name': 'Job_A', 'duration': 1, 'deadline': 118},\n",
    "    {'name': 'Job_B', 'duration': 3, 'deadline': 157},\n",
    "    {'name': 'Job_C', 'duration': 5, 'deadline': 159},\n",
    "    {'name': 'Job_D', 'duration': 7, 'deadline': 200},\n",
    "    {'name': 'Job_E', 'duration': 6, 'deadline': 912}\n",
    "]\n",
    "\n",
    "ans = schedule_jobs(job_var)\n",
    "print(\"job_schedule:\", ans)"
   ]
  },
  {
   "cell_type": "code",
   "execution_count": 4,
   "id": "f3276d1d-f8d4-4994-8f8e-f1d15a83b317",
   "metadata": {},
   "outputs": [
    {
     "name": "stdout",
     "output_type": "stream",
     "text": [
      "job schedule: ['Job_A', 'Job_B', 'Job_C', 'Job_E', 'Job_D']\n"
     ]
    }
   ],
   "source": [
    "def schedule_jobs(job_var):\n",
    "    sorted_jobs = sorted(job_var, key = lambda x:x['duration'])\n",
    "\n",
    "    schedule = []\n",
    "    current_time = 0\n",
    "\n",
    "    for job in sorted_jobs:\n",
    "        if current_time + job['duration'] <= job['deadline']:\n",
    "            schedule.append(job['name'])\n",
    "            current_time = current_time + job['duration']\n",
    "    return schedule\n",
    "\n",
    "job_var = [\n",
    "    {'name': 'Job_A', 'duration': 1, 'deadline': 118},\n",
    "    {'name': 'Job_B', 'duration': 3, 'deadline': 157},\n",
    "    {'name': 'Job_C', 'duration': 5, 'deadline': 159},\n",
    "    {'name': 'Job_D', 'duration': 7, 'deadline': 200},\n",
    "    {'name': 'Job_E', 'duration': 6, 'deadline': 912}\n",
    "]\n",
    "\n",
    "ans = schedule_jobs(job_var)\n",
    "print(\"job schedule:\", ans)"
   ]
  },
  {
   "cell_type": "code",
   "execution_count": null,
   "id": "540a7722-34ed-4c2f-b6e9-4a6b9c1a6dce",
   "metadata": {},
   "outputs": [],
   "source": []
  }
 ],
 "metadata": {
  "kernelspec": {
   "display_name": "Python 3 (ipykernel)",
   "language": "python",
   "name": "python3"
  },
  "language_info": {
   "codemirror_mode": {
    "name": "ipython",
    "version": 3
   },
   "file_extension": ".py",
   "mimetype": "text/x-python",
   "name": "python",
   "nbconvert_exporter": "python",
   "pygments_lexer": "ipython3",
   "version": "3.10.1"
  }
 },
 "nbformat": 4,
 "nbformat_minor": 5
}
